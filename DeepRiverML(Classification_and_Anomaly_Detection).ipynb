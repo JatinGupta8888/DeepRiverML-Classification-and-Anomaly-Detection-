{
  "nbformat": 4,
  "nbformat_minor": 0,
  "metadata": {
    "colab": {
      "provenance": []
    },
    "kernelspec": {
      "name": "python3",
      "display_name": "Python 3"
    },
    "language_info": {
      "name": "python"
    }
  },
  "cells": [
    {
      "cell_type": "code",
      "execution_count": 1,
      "metadata": {
        "colab": {
          "base_uri": "https://localhost:8080/"
        },
        "id": "UK30zAcKP_6g",
        "outputId": "cfff5cb7-8a4c-406c-f2c0-3c7d39156a7c"
      },
      "outputs": [
        {
          "output_type": "stream",
          "name": "stdout",
          "text": [
            "Requirement already satisfied: deep-river in /usr/local/lib/python3.10/dist-packages (0.2.8)\n",
            "Requirement already satisfied: mkdocstrings>=0.19.0 in /usr/local/lib/python3.10/dist-packages (from mkdocstrings[python]>=0.19.0->deep-river) (0.27.0)\n",
            "Requirement already satisfied: numpy<1.27.0,>=1.26.4 in /usr/local/lib/python3.10/dist-packages (from deep-river) (1.26.4)\n",
            "Requirement already satisfied: ordered-set<4.2.0,>=4.1.0 in /usr/local/lib/python3.10/dist-packages (from deep-river) (4.1.0)\n",
            "Requirement already satisfied: pandas<2.3.0,>=2.2.2 in /usr/local/lib/python3.10/dist-packages (from deep-river) (2.2.3)\n",
            "Requirement already satisfied: pytkdocs>=0.5.0 in /usr/local/lib/python3.10/dist-packages (from pytkdocs[numpy-style]>=0.5.0->deep-river) (0.16.2)\n",
            "Requirement already satisfied: river in /usr/local/lib/python3.10/dist-packages (from deep-river) (0.22.0)\n",
            "Requirement already satisfied: scikit-learn<1.6.0,>=1.5.0 in /usr/local/lib/python3.10/dist-packages (from deep-river) (1.5.2)\n",
            "Requirement already satisfied: torch<2.3.0,>=2.2.2 in /usr/local/lib/python3.10/dist-packages (from deep-river) (2.2.2)\n",
            "Requirement already satisfied: torchviz<0.1.0,>=0.0.2 in /usr/local/lib/python3.10/dist-packages (from deep-river) (0.0.3)\n",
            "Requirement already satisfied: tqdm<4.67.0,>=4.66.5 in /usr/local/lib/python3.10/dist-packages (from deep-river) (4.66.6)\n",
            "Requirement already satisfied: click>=7.0 in /usr/local/lib/python3.10/dist-packages (from mkdocstrings>=0.19.0->mkdocstrings[python]>=0.19.0->deep-river) (8.1.7)\n",
            "Requirement already satisfied: Jinja2>=2.11.1 in /usr/local/lib/python3.10/dist-packages (from mkdocstrings>=0.19.0->mkdocstrings[python]>=0.19.0->deep-river) (3.1.4)\n",
            "Requirement already satisfied: Markdown>=3.6 in /usr/local/lib/python3.10/dist-packages (from mkdocstrings>=0.19.0->mkdocstrings[python]>=0.19.0->deep-river) (3.7)\n",
            "Requirement already satisfied: MarkupSafe>=1.1 in /usr/local/lib/python3.10/dist-packages (from mkdocstrings>=0.19.0->mkdocstrings[python]>=0.19.0->deep-river) (3.0.2)\n",
            "Requirement already satisfied: mkdocs>=1.4 in /usr/local/lib/python3.10/dist-packages (from mkdocstrings>=0.19.0->mkdocstrings[python]>=0.19.0->deep-river) (1.6.1)\n",
            "Requirement already satisfied: mkdocs-autorefs>=1.2 in /usr/local/lib/python3.10/dist-packages (from mkdocstrings>=0.19.0->mkdocstrings[python]>=0.19.0->deep-river) (1.3.0)\n",
            "Requirement already satisfied: platformdirs>=2.2 in /usr/local/lib/python3.10/dist-packages (from mkdocstrings>=0.19.0->mkdocstrings[python]>=0.19.0->deep-river) (4.3.6)\n",
            "Requirement already satisfied: pymdown-extensions>=6.3 in /usr/local/lib/python3.10/dist-packages (from mkdocstrings>=0.19.0->mkdocstrings[python]>=0.19.0->deep-river) (10.14)\n",
            "Requirement already satisfied: mkdocstrings-python>=0.5.2 in /usr/local/lib/python3.10/dist-packages (from mkdocstrings[python]>=0.19.0->deep-river) (1.13.0)\n",
            "Requirement already satisfied: python-dateutil>=2.8.2 in /usr/local/lib/python3.10/dist-packages (from pandas<2.3.0,>=2.2.2->deep-river) (2.8.2)\n",
            "Requirement already satisfied: pytz>=2020.1 in /usr/local/lib/python3.10/dist-packages (from pandas<2.3.0,>=2.2.2->deep-river) (2024.2)\n",
            "Requirement already satisfied: tzdata>=2022.7 in /usr/local/lib/python3.10/dist-packages (from pandas<2.3.0,>=2.2.2->deep-river) (2024.2)\n",
            "Requirement already satisfied: docstring_parser>=0.7 in /usr/local/lib/python3.10/dist-packages (from pytkdocs[numpy-style]>=0.5.0->deep-river) (0.16)\n",
            "Requirement already satisfied: scipy>=1.6.0 in /usr/local/lib/python3.10/dist-packages (from scikit-learn<1.6.0,>=1.5.0->deep-river) (1.15.1)\n",
            "Requirement already satisfied: joblib>=1.2.0 in /usr/local/lib/python3.10/dist-packages (from scikit-learn<1.6.0,>=1.5.0->deep-river) (1.4.2)\n",
            "Requirement already satisfied: threadpoolctl>=3.1.0 in /usr/local/lib/python3.10/dist-packages (from scikit-learn<1.6.0,>=1.5.0->deep-river) (3.5.0)\n",
            "Requirement already satisfied: filelock in /usr/local/lib/python3.10/dist-packages (from torch<2.3.0,>=2.2.2->deep-river) (3.16.1)\n",
            "Requirement already satisfied: typing-extensions>=4.8.0 in /usr/local/lib/python3.10/dist-packages (from torch<2.3.0,>=2.2.2->deep-river) (4.12.2)\n",
            "Requirement already satisfied: sympy in /usr/local/lib/python3.10/dist-packages (from torch<2.3.0,>=2.2.2->deep-river) (1.13.1)\n",
            "Requirement already satisfied: networkx in /usr/local/lib/python3.10/dist-packages (from torch<2.3.0,>=2.2.2->deep-river) (3.4.2)\n",
            "Requirement already satisfied: fsspec in /usr/local/lib/python3.10/dist-packages (from torch<2.3.0,>=2.2.2->deep-river) (2024.10.0)\n",
            "Requirement already satisfied: nvidia-cuda-nvrtc-cu12==12.1.105 in /usr/local/lib/python3.10/dist-packages (from torch<2.3.0,>=2.2.2->deep-river) (12.1.105)\n",
            "Requirement already satisfied: nvidia-cuda-runtime-cu12==12.1.105 in /usr/local/lib/python3.10/dist-packages (from torch<2.3.0,>=2.2.2->deep-river) (12.1.105)\n",
            "Requirement already satisfied: nvidia-cuda-cupti-cu12==12.1.105 in /usr/local/lib/python3.10/dist-packages (from torch<2.3.0,>=2.2.2->deep-river) (12.1.105)\n",
            "Requirement already satisfied: nvidia-cudnn-cu12==8.9.2.26 in /usr/local/lib/python3.10/dist-packages (from torch<2.3.0,>=2.2.2->deep-river) (8.9.2.26)\n",
            "Requirement already satisfied: nvidia-cublas-cu12==12.1.3.1 in /usr/local/lib/python3.10/dist-packages (from torch<2.3.0,>=2.2.2->deep-river) (12.1.3.1)\n",
            "Requirement already satisfied: nvidia-cufft-cu12==11.0.2.54 in /usr/local/lib/python3.10/dist-packages (from torch<2.3.0,>=2.2.2->deep-river) (11.0.2.54)\n",
            "Requirement already satisfied: nvidia-curand-cu12==10.3.2.106 in /usr/local/lib/python3.10/dist-packages (from torch<2.3.0,>=2.2.2->deep-river) (10.3.2.106)\n",
            "Requirement already satisfied: nvidia-cusolver-cu12==11.4.5.107 in /usr/local/lib/python3.10/dist-packages (from torch<2.3.0,>=2.2.2->deep-river) (11.4.5.107)\n",
            "Requirement already satisfied: nvidia-cusparse-cu12==12.1.0.106 in /usr/local/lib/python3.10/dist-packages (from torch<2.3.0,>=2.2.2->deep-river) (12.1.0.106)\n",
            "Requirement already satisfied: nvidia-nccl-cu12==2.19.3 in /usr/local/lib/python3.10/dist-packages (from torch<2.3.0,>=2.2.2->deep-river) (2.19.3)\n",
            "Requirement already satisfied: nvidia-nvtx-cu12==12.1.105 in /usr/local/lib/python3.10/dist-packages (from torch<2.3.0,>=2.2.2->deep-river) (12.1.105)\n",
            "Requirement already satisfied: triton==2.2.0 in /usr/local/lib/python3.10/dist-packages (from torch<2.3.0,>=2.2.2->deep-river) (2.2.0)\n",
            "Requirement already satisfied: nvidia-nvjitlink-cu12 in /usr/local/lib/python3.10/dist-packages (from nvidia-cusolver-cu12==11.4.5.107->torch<2.3.0,>=2.2.2->deep-river) (12.6.85)\n",
            "Requirement already satisfied: graphviz in /usr/local/lib/python3.10/dist-packages (from torchviz<0.1.0,>=0.0.2->deep-river) (0.20.3)\n",
            "Requirement already satisfied: ghp-import>=1.0 in /usr/local/lib/python3.10/dist-packages (from mkdocs>=1.4->mkdocstrings>=0.19.0->mkdocstrings[python]>=0.19.0->deep-river) (2.1.0)\n",
            "Requirement already satisfied: mergedeep>=1.3.4 in /usr/local/lib/python3.10/dist-packages (from mkdocs>=1.4->mkdocstrings>=0.19.0->mkdocstrings[python]>=0.19.0->deep-river) (1.3.4)\n",
            "Requirement already satisfied: mkdocs-get-deps>=0.2.0 in /usr/local/lib/python3.10/dist-packages (from mkdocs>=1.4->mkdocstrings>=0.19.0->mkdocstrings[python]>=0.19.0->deep-river) (0.2.0)\n",
            "Requirement already satisfied: packaging>=20.5 in /usr/local/lib/python3.10/dist-packages (from mkdocs>=1.4->mkdocstrings>=0.19.0->mkdocstrings[python]>=0.19.0->deep-river) (24.2)\n",
            "Requirement already satisfied: pathspec>=0.11.1 in /usr/local/lib/python3.10/dist-packages (from mkdocs>=1.4->mkdocstrings>=0.19.0->mkdocstrings[python]>=0.19.0->deep-river) (0.12.1)\n",
            "Requirement already satisfied: pyyaml-env-tag>=0.1 in /usr/local/lib/python3.10/dist-packages (from mkdocs>=1.4->mkdocstrings>=0.19.0->mkdocstrings[python]>=0.19.0->deep-river) (0.1)\n",
            "Requirement already satisfied: pyyaml>=5.1 in /usr/local/lib/python3.10/dist-packages (from mkdocs>=1.4->mkdocstrings>=0.19.0->mkdocstrings[python]>=0.19.0->deep-river) (6.0.2)\n",
            "Requirement already satisfied: watchdog>=2.0 in /usr/local/lib/python3.10/dist-packages (from mkdocs>=1.4->mkdocstrings>=0.19.0->mkdocstrings[python]>=0.19.0->deep-river) (6.0.0)\n",
            "Requirement already satisfied: griffe>=0.49 in /usr/local/lib/python3.10/dist-packages (from mkdocstrings-python>=0.5.2->mkdocstrings[python]>=0.19.0->deep-river) (1.5.4)\n",
            "Requirement already satisfied: six>=1.5 in /usr/local/lib/python3.10/dist-packages (from python-dateutil>=2.8.2->pandas<2.3.0,>=2.2.2->deep-river) (1.17.0)\n",
            "Requirement already satisfied: mpmath<1.4,>=1.1.0 in /usr/local/lib/python3.10/dist-packages (from sympy->torch<2.3.0,>=2.2.2->deep-river) (1.3.0)\n",
            "Requirement already satisfied: colorama>=0.4 in /usr/local/lib/python3.10/dist-packages (from griffe>=0.49->mkdocstrings-python>=0.5.2->mkdocstrings[python]>=0.19.0->deep-river) (0.4.6)\n"
          ]
        }
      ],
      "source": [
        "!pip install deep-river"
      ]
    },
    {
      "cell_type": "code",
      "source": [
        "import deep_river as dr\n",
        "print(dir(dr))"
      ],
      "metadata": {
        "colab": {
          "base_uri": "https://localhost:8080/"
        },
        "id": "MpCwml9vR3nY",
        "outputId": "f82fe6c8-2ebc-49a9-bf44-76ec6e057902"
      },
      "execution_count": 2,
      "outputs": [
        {
          "output_type": "stream",
          "name": "stdout",
          "text": [
            "['__all__', '__builtins__', '__cached__', '__doc__', '__file__', '__loader__', '__name__', '__package__', '__path__', '__spec__', '__version__', 'anomaly', 'base', 'classification', 'regression', 'utils']\n"
          ]
        }
      ]
    },
    {
      "cell_type": "code",
      "source": [
        "!pip install river"
      ],
      "metadata": {
        "colab": {
          "base_uri": "https://localhost:8080/"
        },
        "id": "cufnykHNQagI",
        "outputId": "e1300209-82e9-48f0-f65d-4eb154ce942e"
      },
      "execution_count": 3,
      "outputs": [
        {
          "output_type": "stream",
          "name": "stdout",
          "text": [
            "Requirement already satisfied: river in /usr/local/lib/python3.10/dist-packages (0.22.0)\n",
            "Requirement already satisfied: numpy>=1.23.0 in /usr/local/lib/python3.10/dist-packages (from river) (1.26.4)\n",
            "Requirement already satisfied: pandas<3.0.0,>=2.2.3 in /usr/local/lib/python3.10/dist-packages (from river) (2.2.3)\n",
            "Requirement already satisfied: scipy<2.0.0,>=1.14.1 in /usr/local/lib/python3.10/dist-packages (from river) (1.15.1)\n",
            "Requirement already satisfied: python-dateutil>=2.8.2 in /usr/local/lib/python3.10/dist-packages (from pandas<3.0.0,>=2.2.3->river) (2.8.2)\n",
            "Requirement already satisfied: pytz>=2020.1 in /usr/local/lib/python3.10/dist-packages (from pandas<3.0.0,>=2.2.3->river) (2024.2)\n",
            "Requirement already satisfied: tzdata>=2022.7 in /usr/local/lib/python3.10/dist-packages (from pandas<3.0.0,>=2.2.3->river) (2024.2)\n",
            "Requirement already satisfied: six>=1.5 in /usr/local/lib/python3.10/dist-packages (from python-dateutil>=2.8.2->pandas<3.0.0,>=2.2.3->river) (1.17.0)\n"
          ]
        }
      ]
    },
    {
      "cell_type": "code",
      "source": [
        "import numpy as np"
      ],
      "metadata": {
        "id": "sHWPXICIRqxH"
      },
      "execution_count": 4,
      "outputs": []
    },
    {
      "cell_type": "code",
      "source": [
        "from river import metrics, datasets, preprocessing, compose\n",
        "from deep_river import classification\n",
        "from torch import nn\n",
        "from torch import optim\n",
        "from torch import manual_seed\n",
        "\n",
        "_ = manual_seed(42)\n",
        "\n",
        "class MyModule(nn.Module):\n",
        "    def __init__(self, n_features):\n",
        "        super(MyModule, self).__init__()\n",
        "        self.dense0 = nn.Linear(n_features, 5)\n",
        "        self.nonlin = nn.ReLU()\n",
        "        self.dense1 = nn.Linear(5, 2)\n",
        "        self.softmax = nn.Softmax(dim=-1)\n",
        "\n",
        "    def forward(self, X, **kwargs):\n",
        "        X = self.nonlin(self.dense0(X))\n",
        "        X = self.nonlin(self.dense1(X))\n",
        "        X = self.softmax(X)\n",
        "        return X\n",
        "\n",
        "model_pipeline = compose.Pipeline(\n",
        "    preprocessing.StandardScaler(),\n",
        "    classification.Classifier(module=MyModule, loss_fn='binary_cross_entropy', optimizer_fn='adam')\n",
        ")\n",
        "\n",
        "dataset = datasets.Phishing()\n",
        "metric = metrics.Accuracy()\n",
        "\n",
        "for x, y in dataset:\n",
        "    y_pred = model_pipeline.predict_one(x)  # make a prediction\n",
        "    metric.update(y, y_pred)\n",
        "    model_pipeline.learn_one(x, y)  # make the model learn\n",
        "print(f\"Accuracy: {metric.get():.4f}\")\n"
      ],
      "metadata": {
        "colab": {
          "base_uri": "https://localhost:8080/"
        },
        "id": "MqRTpzfVQDbJ",
        "outputId": "417d12e2-4d96-4197-a527-6bc1b0165104"
      },
      "execution_count": 7,
      "outputs": [
        {
          "output_type": "stream",
          "name": "stdout",
          "text": [
            "Accuracy: 0.7264\n"
          ]
        }
      ]
    },
    {
      "cell_type": "code",
      "source": [
        "from deep_river.anomaly import Autoencoder\n",
        "from river import metrics\n",
        "from river.datasets import CreditCard\n",
        "from torch import nn\n",
        "import math\n",
        "from river.compose import Pipeline\n",
        "from river.preprocessing import MinMaxScaler\n",
        "\n",
        "dataset = CreditCard().take(5000)\n",
        "metric = metrics.ROCAUC(n_thresholds=50)\n",
        "\n",
        "class MyAutoEncoder(nn.Module):\n",
        "    def __init__(self, n_features, latent_dim=3):\n",
        "        super(MyAutoEncoder, self).__init__()\n",
        "        self.linear1 = nn.Linear(n_features, latent_dim)\n",
        "        self.nonlin = nn.LeakyReLU()\n",
        "        self.linear2 = nn.Linear(latent_dim, n_features)\n",
        "        self.sigmoid = nn.Sigmoid()\n",
        "\n",
        "    def forward(self, X, **kwargs):\n",
        "        X = self.linear1(X)\n",
        "        X = self.nonlin(X)\n",
        "        X = self.linear2(X)\n",
        "        return self.sigmoid(X)\n",
        "\n",
        "ae = Autoencoder(module=MyAutoEncoder, lr=0.005)\n",
        "scaler = MinMaxScaler()\n",
        "model = Pipeline(scaler, ae)\n",
        "\n",
        "for x, y in dataset:\n",
        "    score=model.score_one(x)\n",
        "    model.learn_one(x=x)\n",
        "    metric.update(y, score)\n",
        "\n",
        "print(f\"ROCAUC: {metric.get():.4f}\")\n",
        "\n"
      ],
      "metadata": {
        "colab": {
          "base_uri": "https://localhost:8080/"
        },
        "id": "3wVMcetGbmQ5",
        "outputId": "ca7ac351-5fb8-48c3-8348-c8cd3714a665"
      },
      "execution_count": 9,
      "outputs": [
        {
          "output_type": "stream",
          "name": "stdout",
          "text": [
            "Downloading https://maxhalford.github.io/files/datasets/creditcardfraud.zip (65.95 MiB)\n",
            "Uncompressing into /root/river_data/CreditCard\n",
            "ROCAUC: 0.7812\n"
          ]
        }
      ]
    },
    {
      "cell_type": "code",
      "source": [],
      "metadata": {
        "id": "HiTEjF9LjS0T"
      },
      "execution_count": null,
      "outputs": []
    },
    {
      "cell_type": "code",
      "source": [],
      "metadata": {
        "id": "ZV1X-XNBjS3x"
      },
      "execution_count": null,
      "outputs": []
    },
    {
      "cell_type": "code",
      "source": [],
      "metadata": {
        "id": "YqyHRLoMjS6j"
      },
      "execution_count": null,
      "outputs": []
    },
    {
      "cell_type": "code",
      "source": [],
      "metadata": {
        "id": "wflvf3wZjS76"
      },
      "execution_count": null,
      "outputs": []
    },
    {
      "cell_type": "code",
      "source": [],
      "metadata": {
        "id": "hItfkIijjS9w"
      },
      "execution_count": null,
      "outputs": []
    },
    {
      "cell_type": "code",
      "source": [],
      "metadata": {
        "id": "uFC0zGi3jS_T"
      },
      "execution_count": null,
      "outputs": []
    },
    {
      "cell_type": "code",
      "source": [],
      "metadata": {
        "id": "BC8PN-CCjTAs"
      },
      "execution_count": null,
      "outputs": []
    },
    {
      "cell_type": "code",
      "source": [],
      "metadata": {
        "id": "ANEOGweijTFg"
      },
      "execution_count": null,
      "outputs": []
    }
  ]
}